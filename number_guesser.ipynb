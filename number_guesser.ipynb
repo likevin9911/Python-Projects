{
  "nbformat": 4,
  "nbformat_minor": 0,
  "metadata": {
    "colab": {
      "provenance": [],
      "authorship_tag": "ABX9TyN3Y8UwO2yvfUr5Lqsd+Yva",
      "include_colab_link": true
    },
    "kernelspec": {
      "name": "python3",
      "display_name": "Python 3"
    },
    "language_info": {
      "name": "python"
    }
  },
  "cells": [
    {
      "cell_type": "markdown",
      "metadata": {
        "id": "view-in-github",
        "colab_type": "text"
      },
      "source": [
        "<a href=\"https://colab.research.google.com/github/likevin9911/Python-Projects/blob/main/number_guesser.ipynb\" target=\"_parent\"><img src=\"https://colab.research.google.com/assets/colab-badge.svg\" alt=\"Open In Colab\"/></a>"
      ]
    },
    {
      "cell_type": "code",
      "execution_count": null,
      "metadata": {
        "id": "Q7QOa0UQoext"
      },
      "outputs": [],
      "source": [
        "import random"
      ]
    },
    {
      "cell_type": "code",
      "source": [
        "#print(random.randrange(-1, 10)) # Absolute upper bound (10) can't be generated rand.randint\n",
        "max_range = input(\"Type a number: \")\n",
        "\n",
        "#Check if a number\n",
        "if max_range.isdigit():\n",
        "  max_range = int(max_range)\n",
        "\n",
        "#Check if number is above zero\n",
        "if (max_range <= 0):\n",
        "  print(\"Please enter a number larger than zero.\")\n",
        "  quit()\n",
        "\n",
        "random_number = random.randint(0,max_range)\n",
        "guess_count = 0\n",
        "\n",
        "while True:\n",
        "  guess_count += 1\n",
        "  user_guess = input(\"Make a guess of the number: \")\n",
        "  if user_guess.isdigit():\n",
        "    user_guess = int(user_guess)\n",
        "  else:\n",
        "    print(\"Please type a number!\")\n",
        "    continue # goes back up to the begining of the if statement\n",
        "\n",
        "  if (user_guess == random_number):\n",
        "    print(\"Correct!\")\n",
        "    break\n",
        "  elif (user_guess > random_number):\n",
        "    print(\"You guessed above the random number!\")\n",
        "  else:\n",
        "    print(\"You guessed below the random number!\")\n",
        "\n",
        "print(\"You took\", guess_count, \"guesses.... sad!\")"
      ],
      "metadata": {
        "colab": {
          "base_uri": "https://localhost:8080/"
        },
        "id": "uJfXeXSzokM3",
        "outputId": "6734eee0-c212-4e0c-f35d-6fd6acdbb0d6"
      },
      "execution_count": null,
      "outputs": [
        {
          "output_type": "stream",
          "name": "stdout",
          "text": [
            "Type a number: 10\n",
            "Make a guess of the number: 4\n",
            "You guessed below the random number!\n",
            "Make a guess of the number: 8\n",
            "You guessed below the random number!\n",
            "Make a guess of the number: 9\n",
            "You guessed below the random number!\n",
            "Make a guess of the number: 10\n",
            "Correct!\n",
            "You took 4 guesses.... sad!\n"
          ]
        }
      ]
    }
  ]
}