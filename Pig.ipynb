{
  "cells": [
    {
      "cell_type": "markdown",
      "metadata": {
        "id": "view-in-github",
        "colab_type": "text"
      },
      "source": [
        "<a href=\"https://colab.research.google.com/github/likevin9911/Python-Projects/blob/main/Pig.ipynb\" target=\"_parent\"><img src=\"https://colab.research.google.com/assets/colab-badge.svg\" alt=\"Open In Colab\"/></a>"
      ]
    },
    {
      "cell_type": "code",
      "execution_count": null,
      "metadata": {
        "id": "eOqG1XG3JimZ"
      },
      "outputs": [],
      "source": [
        "import random"
      ]
    },
    {
      "cell_type": "code",
      "execution_count": null,
      "metadata": {
        "colab": {
          "background_save": true,
          "base_uri": "https://localhost:8080/"
        },
        "id": "c6u3HN7ALxqN",
        "outputId": "fb0a81a1-ef0b-40d8-f935-2cf4b38dfb5a"
      },
      "outputs": [
        {
          "name": "stdout",
          "output_type": "stream",
          "text": [
            "[0, 0, 0]\n",
            "\n",
            "Player number 1 turn has just started!\n",
            "\n",
            "Your total score is:  0 \n",
            "\n",
            "You rolled a  2\n",
            "You rolled a  4\n",
            "You rolled a  3\n",
            "You rolled a  3\n",
            "You rolled a 1!\n",
            "Your total score is:  0\n",
            "\n",
            "Player number 2 turn has just started!\n",
            "\n",
            "Your total score is:  0 \n",
            "\n"
          ]
        }
      ],
      "source": [
        "def roll():\n",
        "  min_value = 1;\n",
        "  max_value = 6;\n",
        "  roll = random.randint(min_value, max_value)\n",
        "\n",
        "  return roll\n",
        "\n",
        "while True:\n",
        "  players = input(\"Enter the number of players (1-4): \")\n",
        "  if players.isdigit():\n",
        "    players = int(players)\n",
        "    if 1 <= players <= 4:\n",
        "      break\n",
        "    else:\n",
        "      print(\"Must be between 2-4 players. \")\n",
        "  else:\n",
        "    print(\"Invalid\")\n",
        "\n",
        "\n",
        "max_score = 50;\n",
        "player_scores = [0 for _ in range(players)]; # List based on the number of players\n",
        "\n",
        "print(player_scores)\n",
        "\n",
        "while max(player_scores) < max_score:\n",
        "\n",
        "\n",
        "  for player_idx in range(players):\n",
        "    print(\"\\nPlayer number\", player_idx + 1, \"turn has just started!\\n\")\n",
        "    print(\"Your total score is: \", player_scores[player_idx], \"\\n\")\n",
        "    current_score = 0;\n",
        "\n",
        "    while True:\n",
        "      should_roll = input(\"would you like to roll? (y/n): \")\n",
        "      if should_roll.lower() != \"y\":\n",
        "        break\n",
        "\n",
        "      value = roll()\n",
        "      if value == 1:\n",
        "        print(\"You rolled a 1!\")\n",
        "        current_score = 0;\n",
        "        break\n",
        "      else:\n",
        "        current_score += value\n",
        "        print(\"You rolled a \", value)\n",
        "    player_scores[player_idx] += current_score\n",
        "    print(\"Your total score is: \", player_scores[player_idx])\n",
        "\n",
        "max_score = max(player_scores)\n",
        "win_idx = player_scores.index(max_score)\n",
        "print(\"Player number\", win_idx + 1, \"is the winner with a score of\", max_score)"
      ]
    }
  ],
  "metadata": {
    "colab": {
      "provenance": [],
      "authorship_tag": "ABX9TyMHU09P53IN6jVN14JBLR1m",
      "include_colab_link": true
    },
    "kernelspec": {
      "display_name": "Python 3",
      "name": "python3"
    },
    "language_info": {
      "name": "python"
    }
  },
  "nbformat": 4,
  "nbformat_minor": 0
}