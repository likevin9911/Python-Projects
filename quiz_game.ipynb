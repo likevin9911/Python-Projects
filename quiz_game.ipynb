{
  "nbformat": 4,
  "nbformat_minor": 0,
  "metadata": {
    "colab": {
      "provenance": [],
      "authorship_tag": "ABX9TyMn2rGGuYlUXcJpVaro+AGC",
      "include_colab_link": true
    },
    "kernelspec": {
      "name": "python3",
      "display_name": "Python 3"
    },
    "language_info": {
      "name": "python"
    }
  },
  "cells": [
    {
      "cell_type": "markdown",
      "metadata": {
        "id": "view-in-github",
        "colab_type": "text"
      },
      "source": [
        "<a href=\"https://colab.research.google.com/github/likevin9911/Python-Projects/blob/main/quiz_game.ipynb\" target=\"_parent\"><img src=\"https://colab.research.google.com/assets/colab-badge.svg\" alt=\"Open In Colab\"/></a>"
      ]
    },
    {
      "cell_type": "code",
      "execution_count": null,
      "metadata": {
        "colab": {
          "base_uri": "https://localhost:8080/"
        },
        "id": "RmptPPoQECms",
        "outputId": "8d84e8c6-30e7-41af-976d-8889884c7f70"
      },
      "outputs": [
        {
          "output_type": "stream",
          "name": "stdout",
          "text": [
            "Welcome to my computer quiz\n",
            "Do you want to play? yes\n",
            "Okay! Let's play: \n",
            "What does CPU stand for? central processing unit\n",
            "Correct!\n",
            "1\n"
          ]
        }
      ],
      "source": [
        "print(\"Welcome to my computer quiz\")\n",
        "\n",
        "playing = input(\"Do you want to play? \")\n",
        "#print(playing)\n",
        "\n",
        "if playing != \"yes\":\n",
        "  quit()\n",
        "\n",
        "count = 0\n",
        "\n",
        "print(\"Okay! Let's play: \")\n",
        "answer1 = input(\"What does CPU stand for? \")\n",
        "if answer1 == \"central processing unit\":\n",
        "  print('Correct!')\n",
        "  count += 1\n",
        "else:\n",
        "  print('Inccorect!')\n",
        "\n",
        "print(\"You got \" + str(count) + \" questions correct!\")\n",
        "\n",
        "print(count)"
      ]
    }
  ]
}