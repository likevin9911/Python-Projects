{
  "nbformat": 4,
  "nbformat_minor": 0,
  "metadata": {
    "colab": {
      "provenance": [],
      "authorship_tag": "ABX9TyMik+e4rCQIN30Q82cFkmQU",
      "include_colab_link": true
    },
    "kernelspec": {
      "name": "python3",
      "display_name": "Python 3"
    },
    "language_info": {
      "name": "python"
    }
  },
  "cells": [
    {
      "cell_type": "markdown",
      "metadata": {
        "id": "view-in-github",
        "colab_type": "text"
      },
      "source": [
        "<a href=\"https://colab.research.google.com/github/likevin9911/Python-Projects/blob/main/75_SortColors.ipynb\" target=\"_parent\"><img src=\"https://colab.research.google.com/assets/colab-badge.svg\" alt=\"Open In Colab\"/></a>"
      ]
    },
    {
      "cell_type": "markdown",
      "source": [],
      "metadata": {
        "id": "32lw1ApQGnqO"
      }
    },
    {
      "cell_type": "code",
      "execution_count": 13,
      "metadata": {
        "colab": {
          "base_uri": "https://localhost:8080/"
        },
        "id": "Sb1heCn3GffE",
        "outputId": "cfb099e6-d967-4bfa-b630-b9f2a832a189"
      },
      "outputs": [
        {
          "output_type": "stream",
          "name": "stdout",
          "text": [
            "Overwriting sorting_colors.cpp\n"
          ]
        }
      ],
      "source": [
        "%%writefile sorting_colors.cpp\n",
        "#include <vector>\n",
        "#include <iostream>\n",
        "using namespace std;\n",
        "\n",
        "class Solution {\n",
        "public:\n",
        "    void sortColors(vector<int>& nums) {\n",
        "        int low = 0, mid = 0, high = nums.size() - 1;\n",
        "\n",
        "        while(mid <= high){\n",
        "            switch (nums[mid]){\n",
        "                case 0:\n",
        "                    swap(nums[low++], nums[mid++]);\n",
        "                    break;\n",
        "                case 1:\n",
        "                    mid++;\n",
        "                    break;\n",
        "                case 2:\n",
        "                    swap(nums[mid], nums[high--]);\n",
        "                    break;\n",
        "            }\n",
        "        }\n",
        "    }\n",
        "};\n",
        "\n",
        "int main() {\n",
        "    Solution solution;\n",
        "    vector<int> nums = {2,0,2,1,1,0};\n",
        "    for (int num : nums) {\n",
        "        cout << num << \" \";\n",
        "    }\n",
        "    cout << endl;\n",
        "\n",
        "    return 0;\n",
        "}\n"
      ]
    },
    {
      "cell_type": "code",
      "source": [
        "%%writefile sorting_colors.cpp\n",
        "#include <vector>\n",
        "#include <iostream>\n",
        "using namespace std;\n",
        "\n",
        "class Solution {\n",
        "public:\n",
        "    void sortColors(vector<int>& nums) {\n",
        "        int low = 0, mid = 0, high = nums.size() - 1;\n",
        "\n",
        "        while(mid <= high){\n",
        "            switch (nums[mid]){\n",
        "                case 0:\n",
        "                    swap(nums[low++], nums[mid++]);\n",
        "                    break;\n",
        "                case 1:\n",
        "                    mid++;\n",
        "                    break;\n",
        "                case 2:\n",
        "                    swap(nums[mid], nums[high--]);\n",
        "                    break;\n",
        "            }\n",
        "        }\n",
        "    }\n",
        "};\n",
        "\n",
        "int main() {\n",
        "    Solution solution;\n",
        "    vector<int> nums = {2,0,2,1,1,0};\n",
        "    solution.sortColors(nums);\n",
        "    for (int num : nums) {\n",
        "        cout << num << \" \";\n",
        "    }\n",
        "    cout << endl;\n",
        "\n",
        "    return 0;\n",
        "}\n"
      ],
      "metadata": {
        "colab": {
          "base_uri": "https://localhost:8080/"
        },
        "id": "WbIDs9LYIeMt",
        "outputId": "8859cc02-cac3-4260-fb64-c8bdac1935da"
      },
      "execution_count": 19,
      "outputs": [
        {
          "output_type": "stream",
          "name": "stdout",
          "text": [
            "Overwriting sorting_colors.cpp\n"
          ]
        }
      ]
    },
    {
      "cell_type": "code",
      "source": [
        "!g++ sorting_colors.cpp -o sorting_colors"
      ],
      "metadata": {
        "id": "LhIhnQNrHQXa"
      },
      "execution_count": 21,
      "outputs": []
    },
    {
      "cell_type": "code",
      "source": [
        "!./sorting_colors"
      ],
      "metadata": {
        "colab": {
          "base_uri": "https://localhost:8080/"
        },
        "id": "PN0hkCSgJNR2",
        "outputId": "210cd418-e2de-4394-a23e-834c930a0696"
      },
      "execution_count": 22,
      "outputs": [
        {
          "output_type": "stream",
          "name": "stdout",
          "text": [
            "0 0 1 1 2 2 \n"
          ]
        }
      ]
    }
  ]
}