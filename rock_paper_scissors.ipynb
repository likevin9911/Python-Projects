{
  "nbformat": 4,
  "nbformat_minor": 0,
  "metadata": {
    "colab": {
      "provenance": [],
      "authorship_tag": "ABX9TyN38wD18ymCHqxu9sy0IM0I",
      "include_colab_link": true
    },
    "kernelspec": {
      "name": "python3",
      "display_name": "Python 3"
    },
    "language_info": {
      "name": "python"
    }
  },
  "cells": [
    {
      "cell_type": "markdown",
      "metadata": {
        "id": "view-in-github",
        "colab_type": "text"
      },
      "source": [
        "<a href=\"https://colab.research.google.com/github/likevin9911/Python-Projects/blob/main/rock_paper_scissors.ipynb\" target=\"_parent\"><img src=\"https://colab.research.google.com/assets/colab-badge.svg\" alt=\"Open In Colab\"/></a>"
      ]
    },
    {
      "cell_type": "code",
      "execution_count": null,
      "metadata": {
        "id": "efQH6K3IZUl-"
      },
      "outputs": [],
      "source": [
        "import random"
      ]
    },
    {
      "cell_type": "code",
      "source": [
        "comp_wins = 0\n",
        "user_wins = 0\n",
        "\n",
        "options = [\"rock\", \"paper\", \"scissors\"]\n",
        "\n",
        "while True:\n",
        "  user_input = input(\"Your oprtions are: rock, paper, scissors.\")\n",
        "  if user_input == \"q\":\n",
        "    break\n",
        "  if user_input not in options:\n",
        "    print(\"Please choose one of the options.\")\n",
        "    continue\n",
        "\n",
        "  random_number = random.randint(0, 2) #0, 1, 2\n",
        "  comp_number = options[random_number]\n",
        "\n",
        "  if (user_input == \"rock\" and comp_number == \"scissors\"):\n",
        "    print(\"You won this match!\")\n",
        "    user_wins +=1\n",
        "  elif (user_input == \"scissors\" and comp_number == \"paper\"):\n",
        "    print(\"You won this match!\")\n",
        "    user_wins +=1\n",
        "  elif (user_input == \"paper\" and comp_number == \"rock\"):\n",
        "    print(\"You won this match!\")\n",
        "    user_wins +=1\n",
        "  else:\n",
        "    print(\"Computer wins!\")\n",
        "    comp_wins += 1\n",
        "\n",
        "print(\"You won\", user_wins, \"times.\")\n",
        "print(\"The computer won\", comp_wins, \"times.\")\n",
        "\n",
        "\n"
      ],
      "metadata": {
        "colab": {
          "base_uri": "https://localhost:8080/"
        },
        "id": "n-i3HARkcDNU",
        "outputId": "d321b8a1-7610-4d4c-aee3-990d97928e63"
      },
      "execution_count": null,
      "outputs": [
        {
          "output_type": "stream",
          "name": "stdout",
          "text": [
            "Your oprtions are: rock, paper, scissors.q\n",
            "You won 0 times.\n",
            "The computer won 0 times.\n"
          ]
        }
      ]
    }
  ]
}