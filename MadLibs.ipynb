{
  "nbformat": 4,
  "nbformat_minor": 0,
  "metadata": {
    "colab": {
      "provenance": [],
      "include_colab_link": true
    },
    "kernelspec": {
      "name": "python3",
      "display_name": "Python 3"
    },
    "language_info": {
      "name": "python"
    }
  },
  "cells": [
    {
      "cell_type": "markdown",
      "metadata": {
        "id": "view-in-github",
        "colab_type": "text"
      },
      "source": [
        "<a href=\"https://colab.research.google.com/github/likevin9911/Python-Projects/blob/main/MadLibs.ipynb\" target=\"_parent\"><img src=\"https://colab.research.google.com/assets/colab-badge.svg\" alt=\"Open In Colab\"/></a>"
      ]
    },
    {
      "cell_type": "code",
      "execution_count": null,
      "metadata": {
        "id": "Fq6KgPwCCadb",
        "colab": {
          "base_uri": "https://localhost:8080/"
        },
        "collapsed": true,
        "outputId": "7bead1d6-0bfb-4651-91e5-7f512aa0e71a"
      },
      "outputs": [
        {
          "output_type": "stream",
          "name": "stdout",
          "text": [
            "Drive already mounted at /content/drive; to attempt to forcibly remount, call drive.mount(\"/content/drive\", force_remount=True).\n"
          ]
        }
      ],
      "source": [
        "from google.colab import drive\n",
        "drive.mount('/content/drive')"
      ]
    },
    {
      "cell_type": "code",
      "source": [
        "import os\n",
        "#print(os.listdir('/content/drive/MyDrive/Colab Notebooks/Easy Python Projects'))\n",
        "GPT_adventure = '/content/drive/MyDrive/Colab Notebooks/Easy Python Projects/madlibs_colab.txt'\n",
        "court_fantasy = '/content/drive/MyDrive/Colab Notebooks/Easy Python Projects/court_fantasy.txt'\n"
      ],
      "metadata": {
        "id": "pPBuMM7fJSKT"
      },
      "execution_count": null,
      "outputs": []
    },
    {
      "cell_type": "code",
      "source": [
        "with open(court_fantasy, 'r') as file:\n",
        "    court_fantasy = file.read()\n",
        "    print(court_fantasy)"
      ],
      "metadata": {
        "colab": {
          "base_uri": "https://localhost:8080/",
          "height": 190
        },
        "id": "MXbTuvv59CHq",
        "outputId": "e27ab2b2-5c97-4624-f2fc-afd272f434c0"
      },
      "execution_count": null,
      "outputs": [
        {
          "output_type": "error",
          "ename": "FileNotFoundError",
          "evalue": "[Errno 2] No such file or directory: '/content/drive/MyDrive/Colab Notebooks/Easy Python Projects/court_fantasy.txt'",
          "traceback": [
            "\u001b[0;31m---------------------------------------------------------------------------\u001b[0m",
            "\u001b[0;31mFileNotFoundError\u001b[0m                         Traceback (most recent call last)",
            "\u001b[0;32m<ipython-input-11-90b99e61a401>\u001b[0m in \u001b[0;36m<cell line: 1>\u001b[0;34m()\u001b[0m\n\u001b[0;32m----> 1\u001b[0;31m \u001b[0;32mwith\u001b[0m \u001b[0mopen\u001b[0m\u001b[0;34m(\u001b[0m\u001b[0mcourt_fantasy\u001b[0m\u001b[0;34m,\u001b[0m \u001b[0;34m'r'\u001b[0m\u001b[0;34m)\u001b[0m \u001b[0;32mas\u001b[0m \u001b[0mfile\u001b[0m\u001b[0;34m:\u001b[0m\u001b[0;34m\u001b[0m\u001b[0;34m\u001b[0m\u001b[0m\n\u001b[0m\u001b[1;32m      2\u001b[0m     \u001b[0mcourt_fantasy\u001b[0m \u001b[0;34m=\u001b[0m \u001b[0mfile\u001b[0m\u001b[0;34m.\u001b[0m\u001b[0mread\u001b[0m\u001b[0;34m(\u001b[0m\u001b[0;34m)\u001b[0m\u001b[0;34m\u001b[0m\u001b[0;34m\u001b[0m\u001b[0m\n\u001b[1;32m      3\u001b[0m     \u001b[0mprint\u001b[0m\u001b[0;34m(\u001b[0m\u001b[0mcourt_fantasy\u001b[0m\u001b[0;34m)\u001b[0m\u001b[0;34m\u001b[0m\u001b[0;34m\u001b[0m\u001b[0m\n",
            "\u001b[0;31mFileNotFoundError\u001b[0m: [Errno 2] No such file or directory: '/content/drive/MyDrive/Colab Notebooks/Easy Python Projects/court_fantasy.txt'"
          ]
        }
      ]
    },
    {
      "cell_type": "code",
      "source": [
        "target_start = \"<\"\n",
        "target_end = \">\"\n",
        "start_of_word = -1\n",
        "words = set() #unique\n",
        "\n",
        "for i, char in enumerate(court_fantasy):\n",
        "  if char == target_start:\n",
        "    start_of_word = i\n",
        "\n",
        "  if char == target_end and target_start != -1:\n",
        "    word = court_fantasy[start_of_word: i + 1]\n",
        "    words.add(word)\n",
        "    start_of_word = -1\n",
        "\n",
        "#print(words)\n",
        "\n",
        "answers = {}\n",
        "\n",
        "for word in words:\n",
        "  answer = input(\"Enter a word for \" + word + \": \")\n",
        "  answers[word] = answer\n",
        "#print(answers)\n",
        "\n",
        "for word in words:\n",
        "  court_fantasy = court_fantasy.replace(word, answers[word])\n",
        "\n",
        "print(court_fantasy)\n"
      ],
      "metadata": {
        "colab": {
          "base_uri": "https://localhost:8080/"
        },
        "id": "DSNf0kmsGMCy",
        "outputId": "9e95f950-57d8-436b-baf4-72027a5e28cb"
      },
      "execution_count": null,
      "outputs": [
        {
          "output_type": "stream",
          "name": "stdout",
          "text": [
            "/content/drive/MyDrive/Colab Notebooks/Easy Python Projects/court_fantasy.txt\n"
          ]
        }
      ]
    }
  ]
}