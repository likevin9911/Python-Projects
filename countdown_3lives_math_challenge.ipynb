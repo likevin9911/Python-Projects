{
  "nbformat": 4,
  "nbformat_minor": 0,
  "metadata": {
    "colab": {
      "provenance": [],
      "authorship_tag": "ABX9TyNK4MmvwvxvR5wAH4sf7IVk",
      "include_colab_link": true
    },
    "kernelspec": {
      "name": "python3",
      "display_name": "Python 3"
    },
    "language_info": {
      "name": "python"
    }
  },
  "cells": [
    {
      "cell_type": "markdown",
      "metadata": {
        "id": "view-in-github",
        "colab_type": "text"
      },
      "source": [
        "<a href=\"https://colab.research.google.com/github/likevin9911/Python-Projects/blob/main/countdown_3lives_math_challenge.ipynb\" target=\"_parent\"><img src=\"https://colab.research.google.com/assets/colab-badge.svg\" alt=\"Open In Colab\"/></a>"
      ]
    },
    {
      "cell_type": "code",
      "execution_count": 2,
      "metadata": {
        "id": "XL9k8H_phd87"
      },
      "outputs": [],
      "source": [
        "import random\n",
        "import time\n",
        "import sys"
      ]
    },
    {
      "cell_type": "code",
      "source": [
        "OPERATORS = [\"+\", \"-\", \"*\"]\n",
        "MIN_OPERAND = 2\n",
        "MAX_OPERAND = 4\n",
        "TOTAL_PROBLEMS = 12\n",
        "MAX_WRONG = 3\n",
        "TIME_LIMIT = 5\n",
        "\n",
        "def generate_problem():\n",
        "  left = random.randint(MIN_OPERAND, MAX_OPERAND)\n",
        "  right = random.randint(MIN_OPERAND, MAX_OPERAND)\n",
        "  operator = random.choice(OPERATORS)\n",
        "\n",
        "  expr = str(left) + \" \" + operator + \" \" + str(right)\n",
        "  answer = eval(expr)\n",
        "  return expr, answer\n",
        "\n",
        "def play_game():\n",
        "  wrong = 0\n",
        "  correct = 0\n",
        "  input(\"Press anything to start! \")\n",
        "  print()\n",
        "\n",
        "  for i in range(TOTAL_PROBLEMS):\n",
        "    expr, answer = generate_problem()\n",
        "    start_time = time.time()\n",
        "    end_time = start_time + TIME_LIMIT\n",
        "\n",
        "    while wrong < MAX_WRONG and time.time() < end_time:\n",
        "      guess = input(\"Problem #\" + str(i+1) + \": \" + expr + \" = \")\n",
        "\n",
        "      if time.time() >= end_time:\n",
        "        print(\"Time's Up!\")\n",
        "        break\n",
        "\n",
        "      if guess == str(answer):\n",
        "        correct += 1\n",
        "        break\n",
        "      else:\n",
        "        wrong += 1\n",
        "        if wrong == MAX_WRONG:\n",
        "          print(\"Shame.. \")\n",
        "        else:\n",
        "          num_try = MAX_WRONG - wrong\n",
        "          print(\"Incorrect! You have \" + str(num_try) + \" tries left.\")\n",
        "      if time.time() >= end_time:\n",
        "        break\n",
        "    if time.time() >= end_time:\n",
        "        break\n",
        "\n",
        "\n",
        "\n",
        "  print(\"You got \" + str(correct) + \" out of \" + str(TOTAL_PROBLEMS) + \"!\")\n",
        "\n",
        "\n",
        "\n",
        "play_game()"
      ],
      "metadata": {
        "colab": {
          "base_uri": "https://localhost:8080/"
        },
        "id": "WV4SGGbAhlTc",
        "outputId": "1b621728-fa1d-43f3-ca51-e55482971182"
      },
      "execution_count": 44,
      "outputs": [
        {
          "output_type": "stream",
          "name": "stdout",
          "text": [
            "Press anything to start! \n",
            "\n",
            "Problem #1: 3 + 2 = 5\n",
            "Problem #2: 3 - 4 = -1\n",
            "Problem #3: 4 * 3 = 12\n",
            "Problem #4: 2 * 4 = 8\n",
            "Problem #5: 4 * 2 = 8\n",
            "Problem #6: 3 * 2 = 6\n",
            "Problem #7: 2 - 4 = -2\n",
            "Problem #8: 3 - 3 = 0\n",
            "Problem #9: 3 - 3 = 0\n",
            "Problem #10: 2 - 3 = -1\n",
            "Problem #11: 2 * 3 = 6\n",
            "Problem #12: 2 + 2 = 4\n",
            "You got 12 out of 12!\n"
          ]
        }
      ]
    }
  ]
}