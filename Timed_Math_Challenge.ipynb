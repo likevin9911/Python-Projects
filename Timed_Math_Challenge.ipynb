{
  "nbformat": 4,
  "nbformat_minor": 0,
  "metadata": {
    "colab": {
      "provenance": [],
      "authorship_tag": "ABX9TyMaZHlqOHkWlQOuDH2IHRd7",
      "include_colab_link": true
    },
    "kernelspec": {
      "name": "python3",
      "display_name": "Python 3"
    },
    "language_info": {
      "name": "python"
    }
  },
  "cells": [
    {
      "cell_type": "markdown",
      "metadata": {
        "id": "view-in-github",
        "colab_type": "text"
      },
      "source": [
        "<a href=\"https://colab.research.google.com/github/likevin9911/Python-Projects/blob/main/Timed_Math_Challenge.ipynb\" target=\"_parent\"><img src=\"https://colab.research.google.com/assets/colab-badge.svg\" alt=\"Open In Colab\"/></a>"
      ]
    },
    {
      "cell_type": "code",
      "execution_count": 18,
      "metadata": {
        "id": "YZnjRSMiY1yW"
      },
      "outputs": [],
      "source": [
        "import random\n",
        "import time"
      ]
    },
    {
      "cell_type": "code",
      "source": [
        "OPERATORS = [\"+\", \"-\", \"*\"]\n",
        "MIN_OPERAND = 3\n",
        "MAX_OPERAND = 12\n",
        "TOTAL_PROBLEMS = 10\n",
        "\n",
        "def generate_problem():\n",
        "  left = random.randint(MIN_OPERAND, MAX_OPERAND)\n",
        "  right = random.randint(MIN_OPERAND, MAX_OPERAND)\n",
        "  operator = random.choice(OPERATORS)\n",
        "\n",
        "  expr = str(left) + \" \" + operator + \" \" + str(right)\n",
        "  answer = eval(expr)\n",
        "  return expr, answer\n",
        "\n",
        "wrong = 0\n",
        "input(\"Press anything to start! \")\n",
        "print(\"                         \")\n",
        "\n",
        "start_time = time.time()\n",
        "\n",
        "for i in range(TOTAL_PROBLEMS):\n",
        "  expr, answer = generate_problem()\n",
        "\n",
        "  while True:\n",
        "    guess = input(\"Problem #\" + str(i+1) + \": \" + expr + \" = \")\n",
        "    if guess == str(answer):\n",
        "      break\n",
        "    wrong += 1\n",
        "\n",
        "end_time = time.time()\n",
        "total_time = round(end_time - start_time)\n",
        "\n",
        "print(\"                         \")\n",
        "print(\"Nice Work! \")\n",
        "print(total_time)\n",
        "\n",
        "#expr, answer = generate_problem()\n",
        "#print(expr)\n",
        "#print(answer)"
      ],
      "metadata": {
        "colab": {
          "base_uri": "https://localhost:8080/"
        },
        "id": "97umrfhIcbqB",
        "outputId": "b8d82564-1cdf-4d68-f0d3-06fcc1f1cf59"
      },
      "execution_count": 23,
      "outputs": [
        {
          "output_type": "stream",
          "name": "stdout",
          "text": [
            "Press anything to start! \n",
            "                         \n",
            "Problem #1: 7 + 7 = 14\n",
            "Problem #2: 4 * 5 = 20\n",
            "Problem #3: 11 + 7 = 18\n",
            "Problem #4: 11 + 4 = 15\n",
            "Problem #5: 12 * 8 = 96\n",
            "Problem #6: 8 + 6 = 14\n",
            "Problem #7: 8 + 12 = 20\n",
            "Problem #8: 11 + 11 = 22\n",
            "Problem #9: 10 - 3 = 7\n",
            "Problem #10: 4 - 10 = -6\n",
            "                         \n",
            "Nice Work! \n",
            "25\n"
          ]
        }
      ]
    }
  ]
}